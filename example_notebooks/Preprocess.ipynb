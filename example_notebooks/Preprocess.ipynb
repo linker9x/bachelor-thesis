{
 "cells": [
  {
   "cell_type": "code",
   "execution_count": 1,
   "metadata": {},
   "outputs": [],
   "source": [
    "import warnings\n",
    "warnings.filterwarnings('ignore')\n",
    "    \n",
    "import os\n",
    "import traceback\n",
    "import sys\n",
    "\n",
    "module_path = os.path.abspath(os.path.join('..'))\n",
    "if module_path not in sys.path:\n",
    "    sys.path.append(module_path)\n",
    "\n",
    "import pandas as pd\n",
    "import numpy as np \n",
    "\n",
    "from preprocessor.preprocessor import preprocess"
   ]
  },
  {
   "cell_type": "code",
   "execution_count": 2,
   "metadata": {},
   "outputs": [],
   "source": [
    "names = ['breast_cancer', 'Carcinom', 'chin', 'quality_control', 'CLL_SUB_111', 'SRBCT', 'Lymphoma', 'GLIOMA', 'CNS', \n",
    "'colon', 'Data_Cortex_Nuclear','Leukemia', 'LSVT', 'Prostate_GE', 'lung', 'MLL', 'prostate_cancer', 'ovarian',\n",
    "'SMK_CAN_187', 'TOX_171', 'GLI_85']"
   ]
  },
  {
   "cell_type": "code",
   "execution_count": 5,
   "metadata": {},
   "outputs": [
    {
     "name": "stdout",
     "output_type": "stream",
     "text": [
      "DROPPED: Index(['id', 'Unnamed: 32'], dtype='object')\n",
      "DROPPED: Index(['experts::0', 'experts::1', 'experts::2', 'experts::3', 'experts::4',\n",
      "       'experts::5'],\n",
      "      dtype='object')\n",
      "DROPPED: Index(['MouseID', 'Genotype', 'Treatment', 'Behavior'], dtype='object')\n"
     ]
    }
   ],
   "source": [
    "for name in names:\n",
    "    if name in ['Carcinom', 'chin', 'CLL_SUB_111', 'colon', 'GLI_85', 'GLIOMA', 'LSVT', 'Lymphoma', \n",
    "                'MLL', 'Prostate_GE', 'TOX_171', 'SMK_CAN_187']:\n",
    "        preprocess('../data/' + name + '.csv', 'class', [])\n",
    "    elif name in ['Leukemia', 'CNS', 'SRBCT']:\n",
    "        preprocess('../data/' + name + '.csv', 'CLASS', [])\n",
    "    elif name == 'prostate_cancer':\n",
    "        preprocess('../data/' + name + '.csv', ' class', [])\n",
    "    elif name == 'Data_Cortex_Nuclear':\n",
    "        preprocess('../data/Data_Cortex_Nuclear.csv', 'class', [0, 78, 79, 80])\n",
    "    elif name == 'breast_cancer':\n",
    "        preprocess('../data/breast_cancer.csv', 'diagnosis', [0, 32])\n",
    "    elif name == 'lung':\n",
    "        preprocess('../data/lung.csv', 'type', [])\n",
    "    elif name == 'ovarian':\n",
    "        preprocess('../data/ovarian.csv', 'Class', [])\n",
    "    elif name == 'quality_control':\n",
    "        preprocess('../data/quality_control.csv', 'consensus', [62, 63, 64, 65, 66, 67])\n",
    "    else:\n",
    "        print('Unknown name')"
   ]
  },
  {
   "cell_type": "code",
   "execution_count": null,
   "metadata": {},
   "outputs": [],
   "source": []
  }
 ],
 "metadata": {
  "kernelspec": {
   "display_name": "Python 3",
   "language": "python",
   "name": "python3"
  },
  "language_info": {
   "codemirror_mode": {
    "name": "ipython",
    "version": 3
   },
   "file_extension": ".py",
   "mimetype": "text/x-python",
   "name": "python",
   "nbconvert_exporter": "python",
   "pygments_lexer": "ipython3",
   "version": "3.6.3"
  }
 },
 "nbformat": 4,
 "nbformat_minor": 2
}
