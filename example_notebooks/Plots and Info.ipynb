{
 "cells": [
  {
   "cell_type": "code",
   "execution_count": 1,
   "metadata": {},
   "outputs": [],
   "source": [
    "import warnings\n",
    "warnings.filterwarnings('ignore')\n",
    "    \n",
    "import os\n",
    "import traceback\n",
    "import sys\n",
    "from time import time\n",
    "\n",
    "module_path = os.path.abspath(os.path.join('..'))\n",
    "if module_path not in sys.path:\n",
    "    sys.path.append(module_path)\n",
    "\n",
    "import pandas as pd\n",
    "import numpy as np \n",
    "\n",
    "from sklearn.cluster import DBSCAN\n",
    "from sklearn.neighbors import NearestNeighbors\n",
    "\n",
    "import seaborn as sns\n",
    "import matplotlib.pyplot as plt\n",
    "from mpl_toolkits.mplot3d import Axes3D\n",
    "from matplotlib.ticker import NullFormatter\n",
    "%matplotlib inline\n",
    "\n",
    "from visualization.plots import plots\n",
    "from visualization.plots import post_plots"
   ]
  },
  {
   "cell_type": "code",
   "execution_count": 2,
   "metadata": {},
   "outputs": [],
   "source": [
    "# names = ['breast_cancer', 'Carcinom', 'chin', 'quality_control', 'CLL_SUB_111', 'SRBCT', 'Lymphoma', 'GLIOMA', 'CNS', \n",
    "# 'colon', 'Data_Cortex_Nuclear','Leukemia', 'LSVT', 'Prostate_GE', 'lung', 'MLL', 'prostate_cancer', 'ovarian',\n",
    "# 'SMK_CAN_187', 'TOX_171', 'GLI_85']\n",
    "\n",
    "names = ['CLL_SUB_111', 'CNS', 'colon', 'GLI_85', 'GLIOMA', 'Leukemia', 'lung', \n",
    "            'Lymphoma', 'MLL', 'ovarian', 'Prostate_GE', 'SRBCT', 'TOX_171']\n"
   ]
  },
  {
   "cell_type": "markdown",
   "metadata": {},
   "source": [
    "# Create 4 T-SNE and PCA plots"
   ]
  },
  {
   "cell_type": "code",
   "execution_count": null,
   "metadata": {
    "scrolled": true
   },
   "outputs": [],
   "source": [
    "for name in names:\n",
    "    plots(name, '../data/' + name + '_clean.csv')"
   ]
  },
  {
   "cell_type": "markdown",
   "metadata": {},
   "source": [
    "# Create CSV with Dataset Info"
   ]
  },
  {
   "cell_type": "code",
   "execution_count": null,
   "metadata": {},
   "outputs": [],
   "source": [
    "def ib(counts):\n",
    "    num_class = len(counts)\n",
    "    \n",
    "    sum=0\n",
    "    for c in counts:\n",
    "        sum += c/(X.shape[0]-c)\n",
    "    \n",
    "    coef = (num_class - 1)/num_class\n",
    "    \n",
    "    return 1 - (1/(coef*sum))"
   ]
  },
  {
   "cell_type": "code",
   "execution_count": null,
   "metadata": {
    "scrolled": true
   },
   "outputs": [],
   "source": [
    "no_feature = []\n",
    "no_instance = []\n",
    "no_classes = []\n",
    "sbrs = []\n",
    "irs = []\n",
    "clusters = []\n",
    "\n",
    "for name in names:\n",
    "    df = pd.read_csv('../data/' + name + '_clean.csv')\n",
    "    \n",
    "    # features and target var\n",
    "    X = df.drop('class', axis=1)\n",
    "    y = df['class']\n",
    "    \n",
    "    # number of classes for dataset\n",
    "    num_of_classes = df['class'].nunique()\n",
    "      \n",
    "    # keys and counts for classes\n",
    "    values = y.value_counts().keys().tolist()\n",
    "    counts = y.value_counts().tolist()\n",
    "    \n",
    "    # average number of points per dimension as percent\n",
    "    inst = X.shape[0]\n",
    "    feat = X.shape[1]\n",
    "    sbr = round((inst/feat)*100, 2)\n",
    "    \n",
    "    # imbalance ratio\n",
    "    ir = round(ib(counts), 4)\n",
    "    \n",
    "    no_instance.append(inst)\n",
    "    no_feature.append(feat)\n",
    "    no_classes.append(num_of_classes)\n",
    "    sbrs.append(sbr)\n",
    "    irs.append(ir) \n",
    "\n",
    "data = {'name': names, 'no_instances': no_instance, 'no_features': no_feature, 'no_classes': no_classes, 'sbr': sbrs, 'ir': irs}   \n",
    "df = pd.DataFrame(data) \n",
    "df.to_csv('./stats/dataset_info.csv', index=False)"
   ]
  },
  {
   "cell_type": "code",
   "execution_count": null,
   "metadata": {
    "scrolled": true
   },
   "outputs": [],
   "source": [
    "for name in names:\n",
    "    df = pd.read_csv('../data/' + name + '_clean.csv')\n",
    "    \n",
    "    # features and target var\n",
    "    X = df.drop('class', axis=1)\n",
    "    y = df['class']\n",
    "    \n",
    "    # number of classes for dataset\n",
    "    num_of_classes = df['class'].nunique()\n",
    "      \n",
    "    # keys and counts for classes\n",
    "    values = y.value_counts().keys().tolist()\n",
    "    counts = y.value_counts().tolist()\n",
    "    print(name)\n",
    "    print(values)\n",
    "    print(counts)"
   ]
  },
  {
   "cell_type": "markdown",
   "metadata": {},
   "source": [
    "# Post FS T-SNE"
   ]
  },
  {
   "cell_type": "code",
   "execution_count": null,
   "metadata": {},
   "outputs": [],
   "source": [
    "name = 'TOX_171'\n",
    "alg_name = 'RELIEFF'\n",
    "df = pd.read_csv('./results/' + name + '/' + alg_name + '_selected_feat.csv', nrows=1, header=None)\n",
    "results = df.values.tolist()\n",
    "results = results[0]\n",
    "\n",
    "# cutoff = int(len(results) * .8)\n",
    "# results = results[:cutoff]\n",
    "\n",
    "results = results[:200]\n",
    "\n",
    "results = [str(i) for i in results]\n",
    "\n",
    "post_plots(name, '../data/' + name + '_clean.csv', results)"
   ]
  },
  {
   "cell_type": "code",
   "execution_count": null,
   "metadata": {},
   "outputs": [],
   "source": []
  }
 ],
 "metadata": {
  "kernelspec": {
   "display_name": "Python 3",
   "language": "python",
   "name": "python3"
  },
  "language_info": {
   "codemirror_mode": {
    "name": "ipython",
    "version": 3
   },
   "file_extension": ".py",
   "mimetype": "text/x-python",
   "name": "python",
   "nbconvert_exporter": "python",
   "pygments_lexer": "ipython3",
   "version": "3.6.3"
  }
 },
 "nbformat": 4,
 "nbformat_minor": 2
}
