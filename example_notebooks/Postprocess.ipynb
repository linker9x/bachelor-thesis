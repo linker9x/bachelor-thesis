{
 "cells": [
  {
   "cell_type": "code",
   "execution_count": 1,
   "metadata": {},
   "outputs": [],
   "source": [
    "import warnings\n",
    "warnings.filterwarnings('ignore')\n",
    "    \n",
    "import os\n",
    "import traceback\n",
    "import sys\n",
    "\n",
    "module_path = os.path.abspath(os.path.join('..'))\n",
    "if module_path not in sys.path:\n",
    "    sys.path.append(module_path)\n",
    "\n",
    "import pandas as pd\n",
    "import numpy as np \n",
    "\n",
    "from post_process.ba_postprocessor.ba_postprocessor import *"
   ]
  },
  {
   "cell_type": "code",
   "execution_count": 2,
   "metadata": {},
   "outputs": [],
   "source": [
    "ds_names = ['CLL_SUB_111', 'CNS', 'colon', 'GLI_85', 'GLIOMA', 'Leukemia', 'lung', \n",
    "            'Lymphoma', 'MLL', 'ovarian', 'Prostate_GE', 'SRBCT', 'TOX_171']\n",
    "\n",
    "\n",
    "alg_names = ['CFS', 'CHI2', 'IG', 'LDA', 'MCFS', 'MRMR', 'RELIEFF',\n",
    "             'EN', 'HSIC', 'LASSO', 'SS', 'BORUTA', 'JACKSTRAW', 'SVM-RFE',\n",
    "             'MLP', 'DBN', 'TSFS']\n",
    "# alg_names = ['MRMR', 'CAE', 'SCA']"
   ]
  },
  {
   "cell_type": "code",
   "execution_count": 3,
   "metadata": {},
   "outputs": [],
   "source": [
    "for ds_name in ds_names: \n",
    "    average_results(ds_name, alg_names)"
   ]
  },
  {
   "cell_type": "code",
   "execution_count": 4,
   "metadata": {},
   "outputs": [],
   "source": [
    "for ds_name in ds_names: \n",
    "    ranked_list(ds_name, alg_names)\n",
    "    ranked_list(ds_name, alg_names, True)"
   ]
  },
  {
   "cell_type": "code",
   "execution_count": null,
   "metadata": {},
   "outputs": [],
   "source": []
  }
 ],
 "metadata": {
  "kernelspec": {
   "display_name": "Python 3",
   "language": "python",
   "name": "python3"
  },
  "language_info": {
   "codemirror_mode": {
    "name": "ipython",
    "version": 3
   },
   "file_extension": ".py",
   "mimetype": "text/x-python",
   "name": "python",
   "nbconvert_exporter": "python",
   "pygments_lexer": "ipython3",
   "version": "3.6.3"
  }
 },
 "nbformat": 4,
 "nbformat_minor": 2
}
